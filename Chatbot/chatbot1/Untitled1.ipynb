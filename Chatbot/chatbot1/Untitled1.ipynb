{
 "cells": [
  {
   "cell_type": "code",
   "execution_count": 1,
   "id": "7458f707",
   "metadata": {},
   "outputs": [],
   "source": [
    "import json\n",
    "import pandas as pd\n",
    "from sentence_transformers import SentenceTransformer\n",
    "from sklearn.metrics.pairwise import cosine_similarity\n",
    "\n",
    "#필수 import 선언"
   ]
  },
  {
   "cell_type": "code",
   "execution_count": 2,
   "id": "7c34be91",
   "metadata": {},
   "outputs": [],
   "source": [
    "model = SentenceTransformer('jhgan/ko-sroberta-multitask')"
   ]
  },
  {
   "cell_type": "code",
   "execution_count": 3,
   "id": "07bcc57f",
   "metadata": {},
   "outputs": [],
   "source": [
    "with open('tqa_sample.json','r',encoding='utf=8') as f:\n",
    "    data = json.load(f)\n",
    "    \n",
    "    #제이슨데이터 가져오기"
   ]
  },
  {
   "cell_type": "code",
   "execution_count": 4,
   "id": "89136ff8",
   "metadata": {},
   "outputs": [],
   "source": [
    "rows = []\n",
    "for d in data['data']:\n",
    "    for p in d['paragraphs']:\n",
    "        for q in p['qas']:\n",
    "            row = {\n",
    "                'question':q['question'],\n",
    "                'answer':q['answers'][0]['text'],\n",
    "                'context':p['context']\n",
    "            }\n",
    "            rows.append(row)\n",
    "            #행 추가, json을 행에 파싱하기\n",
    "                        \n",
    "df = pd.DataFrame(rows,columns=['question','answer','context'])\n",
    "#파싱한 데이터프레임을 df에 저장"
   ]
  },
  {
   "cell_type": "code",
   "execution_count": 5,
   "id": "f59be622",
   "metadata": {},
   "outputs": [
    {
     "data": {
      "text/html": [
       "<div>\n",
       "<style scoped>\n",
       "    .dataframe tbody tr th:only-of-type {\n",
       "        vertical-align: middle;\n",
       "    }\n",
       "\n",
       "    .dataframe tbody tr th {\n",
       "        vertical-align: top;\n",
       "    }\n",
       "\n",
       "    .dataframe thead th {\n",
       "        text-align: right;\n",
       "    }\n",
       "</style>\n",
       "<table border=\"1\" class=\"dataframe\">\n",
       "  <thead>\n",
       "    <tr style=\"text-align: right;\">\n",
       "      <th></th>\n",
       "      <th>question</th>\n",
       "      <th>answer</th>\n",
       "      <th>context</th>\n",
       "    </tr>\n",
       "  </thead>\n",
       "  <tbody>\n",
       "    <tr>\n",
       "      <th>0</th>\n",
       "      <td>국제사회는 무엇을 거쳐서 국제적 거버넌스를 구성하였지</td>\n",
       "      <td>구조적 변화</td>\n",
       "      <td>국제연합을 비롯하여 전문성을 갖춘 국제기구들이 설립되기 시작하면서 분야별 과학적 증...</td>\n",
       "    </tr>\n",
       "    <tr>\n",
       "      <th>1</th>\n",
       "      <td>무엇을 거쳐서 국제사회는 국제적 거버넌스를 조직하였어</td>\n",
       "      <td>구조적 변화</td>\n",
       "      <td>국제연합을 비롯하여 전문성을 갖춘 국제기구들이 설립되기 시작하면서 분야별 과학적 증...</td>\n",
       "    </tr>\n",
       "    <tr>\n",
       "      <th>2</th>\n",
       "      <td>국제사회가 국제적 거버넌스를 만들기 위해 거친 게 뭘까</td>\n",
       "      <td>구조적 변화</td>\n",
       "      <td>국제연합을 비롯하여 전문성을 갖춘 국제기구들이 설립되기 시작하면서 분야별 과학적 증...</td>\n",
       "    </tr>\n",
       "    <tr>\n",
       "      <th>3</th>\n",
       "      <td>대학교가 학생회를 만들기 위해 거친 게 뭘까</td>\n",
       "      <td>구조적 변화</td>\n",
       "      <td>국제연합을 비롯하여 전문성을 갖춘 국제기구들이 설립되기 시작하면서 분야별 과학적 증...</td>\n",
       "    </tr>\n",
       "    <tr>\n",
       "      <th>4</th>\n",
       "      <td>국제사회는 구조적 변화를 거쳐서 무엇을 구성했지</td>\n",
       "      <td>국제적 거버넌스</td>\n",
       "      <td>국제연합을 비롯하여 전문성을 갖춘 국제기구들이 설립되기 시작하면서 분야별 과학적 증...</td>\n",
       "    </tr>\n",
       "  </tbody>\n",
       "</table>\n",
       "</div>"
      ],
      "text/plain": [
       "                         question    answer   \n",
       "0   국제사회는 무엇을 거쳐서 국제적 거버넌스를 구성하였지    구조적 변화  \\\n",
       "1   무엇을 거쳐서 국제사회는 국제적 거버넌스를 조직하였어    구조적 변화   \n",
       "2  국제사회가 국제적 거버넌스를 만들기 위해 거친 게 뭘까    구조적 변화   \n",
       "3        대학교가 학생회를 만들기 위해 거친 게 뭘까    구조적 변화   \n",
       "4      국제사회는 구조적 변화를 거쳐서 무엇을 구성했지  국제적 거버넌스   \n",
       "\n",
       "                                             context  \n",
       "0  국제연합을 비롯하여 전문성을 갖춘 국제기구들이 설립되기 시작하면서 분야별 과학적 증...  \n",
       "1  국제연합을 비롯하여 전문성을 갖춘 국제기구들이 설립되기 시작하면서 분야별 과학적 증...  \n",
       "2  국제연합을 비롯하여 전문성을 갖춘 국제기구들이 설립되기 시작하면서 분야별 과학적 증...  \n",
       "3  국제연합을 비롯하여 전문성을 갖춘 국제기구들이 설립되기 시작하면서 분야별 과학적 증...  \n",
       "4  국제연합을 비롯하여 전문성을 갖춘 국제기구들이 설립되기 시작하면서 분야별 과학적 증...  "
      ]
     },
     "execution_count": 5,
     "metadata": {},
     "output_type": "execute_result"
    }
   ],
   "source": [
    "df.head()"
   ]
  },
  {
   "cell_type": "code",
   "execution_count": 6,
   "id": "bae7bd45",
   "metadata": {},
   "outputs": [
    {
     "data": {
      "text/html": [
       "<div>\n",
       "<style scoped>\n",
       "    .dataframe tbody tr th:only-of-type {\n",
       "        vertical-align: middle;\n",
       "    }\n",
       "\n",
       "    .dataframe tbody tr th {\n",
       "        vertical-align: top;\n",
       "    }\n",
       "\n",
       "    .dataframe thead th {\n",
       "        text-align: right;\n",
       "    }\n",
       "</style>\n",
       "<table border=\"1\" class=\"dataframe\">\n",
       "  <thead>\n",
       "    <tr style=\"text-align: right;\">\n",
       "      <th></th>\n",
       "      <th>question</th>\n",
       "      <th>answer</th>\n",
       "      <th>context</th>\n",
       "      <th>embedding</th>\n",
       "    </tr>\n",
       "  </thead>\n",
       "  <tbody>\n",
       "    <tr>\n",
       "      <th>0</th>\n",
       "      <td>국제사회는 무엇을 거쳐서 국제적 거버넌스를 구성하였지</td>\n",
       "      <td>구조적 변화</td>\n",
       "      <td>국제연합을 비롯하여 전문성을 갖춘 국제기구들이 설립되기 시작하면서 분야별 과학적 증...</td>\n",
       "      <td>[-0.07944405, 0.067433365, -0.29577592, 0.0563...</td>\n",
       "    </tr>\n",
       "    <tr>\n",
       "      <th>1</th>\n",
       "      <td>무엇을 거쳐서 국제사회는 국제적 거버넌스를 조직하였어</td>\n",
       "      <td>구조적 변화</td>\n",
       "      <td>국제연합을 비롯하여 전문성을 갖춘 국제기구들이 설립되기 시작하면서 분야별 과학적 증...</td>\n",
       "      <td>[0.10635998, 0.08472427, -0.36093003, -0.00513...</td>\n",
       "    </tr>\n",
       "    <tr>\n",
       "      <th>2</th>\n",
       "      <td>국제사회가 국제적 거버넌스를 만들기 위해 거친 게 뭘까</td>\n",
       "      <td>구조적 변화</td>\n",
       "      <td>국제연합을 비롯하여 전문성을 갖춘 국제기구들이 설립되기 시작하면서 분야별 과학적 증...</td>\n",
       "      <td>[-0.054705456, 0.24214719, -0.57325166, -0.015...</td>\n",
       "    </tr>\n",
       "    <tr>\n",
       "      <th>3</th>\n",
       "      <td>대학교가 학생회를 만들기 위해 거친 게 뭘까</td>\n",
       "      <td>구조적 변화</td>\n",
       "      <td>국제연합을 비롯하여 전문성을 갖춘 국제기구들이 설립되기 시작하면서 분야별 과학적 증...</td>\n",
       "      <td>[0.052480504, -0.07868377, -0.09170076, -0.186...</td>\n",
       "    </tr>\n",
       "    <tr>\n",
       "      <th>4</th>\n",
       "      <td>국제사회는 구조적 변화를 거쳐서 무엇을 구성했지</td>\n",
       "      <td>국제적 거버넌스</td>\n",
       "      <td>국제연합을 비롯하여 전문성을 갖춘 국제기구들이 설립되기 시작하면서 분야별 과학적 증...</td>\n",
       "      <td>[-0.3563423, 0.02809879, -0.76726997, -0.34480...</td>\n",
       "    </tr>\n",
       "  </tbody>\n",
       "</table>\n",
       "</div>"
      ],
      "text/plain": [
       "                         question    answer   \n",
       "0   국제사회는 무엇을 거쳐서 국제적 거버넌스를 구성하였지    구조적 변화  \\\n",
       "1   무엇을 거쳐서 국제사회는 국제적 거버넌스를 조직하였어    구조적 변화   \n",
       "2  국제사회가 국제적 거버넌스를 만들기 위해 거친 게 뭘까    구조적 변화   \n",
       "3        대학교가 학생회를 만들기 위해 거친 게 뭘까    구조적 변화   \n",
       "4      국제사회는 구조적 변화를 거쳐서 무엇을 구성했지  국제적 거버넌스   \n",
       "\n",
       "                                             context   \n",
       "0  국제연합을 비롯하여 전문성을 갖춘 국제기구들이 설립되기 시작하면서 분야별 과학적 증...  \\\n",
       "1  국제연합을 비롯하여 전문성을 갖춘 국제기구들이 설립되기 시작하면서 분야별 과학적 증...   \n",
       "2  국제연합을 비롯하여 전문성을 갖춘 국제기구들이 설립되기 시작하면서 분야별 과학적 증...   \n",
       "3  국제연합을 비롯하여 전문성을 갖춘 국제기구들이 설립되기 시작하면서 분야별 과학적 증...   \n",
       "4  국제연합을 비롯하여 전문성을 갖춘 국제기구들이 설립되기 시작하면서 분야별 과학적 증...   \n",
       "\n",
       "                                           embedding  \n",
       "0  [-0.07944405, 0.067433365, -0.29577592, 0.0563...  \n",
       "1  [0.10635998, 0.08472427, -0.36093003, -0.00513...  \n",
       "2  [-0.054705456, 0.24214719, -0.57325166, -0.015...  \n",
       "3  [0.052480504, -0.07868377, -0.09170076, -0.186...  \n",
       "4  [-0.3563423, 0.02809879, -0.76726997, -0.34480...  "
      ]
     },
     "execution_count": 6,
     "metadata": {},
     "output_type": "execute_result"
    }
   ],
   "source": [
    "df['embedding'] = pd.Series([[]] * len(df))\n",
    "df['embedding'] = df['question'].map(lambda x: list(model.encode(x)))\n",
    "df.head()"
   ]
  },
  {
   "cell_type": "code",
   "execution_count": 7,
   "id": "63c43623",
   "metadata": {},
   "outputs": [],
   "source": [
    "df.to_json('tqa_dataset.json')\n",
    "\n",
    "#파싱한 제이슨데이터 내보내기"
   ]
  },
  {
   "cell_type": "code",
   "execution_count": null,
   "id": "a9403972",
   "metadata": {},
   "outputs": [],
   "source": []
  }
 ],
 "metadata": {
  "kernelspec": {
   "display_name": "chatbot",
   "language": "python",
   "name": "chatbot"
  },
  "language_info": {
   "codemirror_mode": {
    "name": "ipython",
    "version": 3
   },
   "file_extension": ".py",
   "mimetype": "text/x-python",
   "name": "python",
   "nbconvert_exporter": "python",
   "pygments_lexer": "ipython3",
   "version": "3.8.16"
  }
 },
 "nbformat": 4,
 "nbformat_minor": 5
}
