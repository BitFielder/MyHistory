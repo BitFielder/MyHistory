{
 "cells": [
  {
   "cell_type": "code",
   "execution_count": 8,
   "id": "7458f707",
   "metadata": {},
   "outputs": [],
   "source": [
    "import json\n",
    "import pandas as pd\n",
    "from sentence_transformers import SentenceTransformer\n",
    "from sklearn.metrics.pairwise import cosine_similarity\n",
    "\n",
    "#필수 import 선언"
   ]
  },
  {
   "cell_type": "code",
   "execution_count": 9,
   "id": "7c34be91",
   "metadata": {},
   "outputs": [],
   "source": [
    "model = SentenceTransformer('jhgan/ko-sroberta-multitask')"
   ]
  },
  {
   "cell_type": "code",
   "execution_count": 10,
   "id": "07bcc57f",
   "metadata": {},
   "outputs": [],
   "source": [
    "with open('synopses.json','r',encoding='utf=8') as f:\n",
    "    data = json.load(f)\n",
    "    \n",
    "    #제이슨데이터 가져오기"
   ]
  },
  {
   "cell_type": "code",
   "execution_count": 11,
   "id": "89136ff8",
   "metadata": {},
   "outputs": [],
   "source": [
    "rows = []\n",
    "for d in data:                  \n",
    "#하위 제이슨데이터가 없기 때문에 for문의 data를 배열으로 사용하지 않습니다.\n",
    "    row = {\n",
    "        'question':d['title_kr'], #title_kr가 질문\n",
    "        'answer':d['synopsis'],     #synopsis가 답변\n",
    "        #'context':d['rating']   #context는 질문과 답변만 넣을 것이기 때문에 주석처리했습니다.\n",
    "    }\n",
    "    rows.append(row)\n",
    "    #행 추가, json을 행에 파싱하기\n",
    "#복습한 과제의 제이슨데이터 형식에 따라 수정하였습니다.\n",
    "                        \n",
    "df = pd.DataFrame(rows,columns=['question','answer']) #context 삭제\n",
    "#파싱한 데이터프레임을 df에 저장\n",
    "#context는 지웠습니다.\n",
    "#context구문을 실행하려면 파이썬파일도 수정해야합니다."
   ]
  },
  {
   "cell_type": "code",
   "execution_count": 12,
   "id": "f59be622",
   "metadata": {},
   "outputs": [
    {
     "data": {
      "text/html": [
       "<div>\n",
       "<style scoped>\n",
       "    .dataframe tbody tr th:only-of-type {\n",
       "        vertical-align: middle;\n",
       "    }\n",
       "\n",
       "    .dataframe tbody tr th {\n",
       "        vertical-align: top;\n",
       "    }\n",
       "\n",
       "    .dataframe thead th {\n",
       "        text-align: right;\n",
       "    }\n",
       "</style>\n",
       "<table border=\"1\" class=\"dataframe\">\n",
       "  <thead>\n",
       "    <tr style=\"text-align: right;\">\n",
       "      <th></th>\n",
       "      <th>question</th>\n",
       "      <th>answer</th>\n",
       "    </tr>\n",
       "  </thead>\n",
       "  <tbody>\n",
       "    <tr>\n",
       "      <th>0</th>\n",
       "      <td>터미네이터 2</td>\n",
       "      <td>미래, 인류와 기계의 전쟁은 계속 되는 가운데 스카이넷은 인류 저항군 사령관 존 코...</td>\n",
       "    </tr>\n",
       "    <tr>\n",
       "      <th>1</th>\n",
       "      <td>쇼생크 탈출</td>\n",
       "      <td>촉망받는 은행 간부 앤디 듀프레인(Andy Dufresne: 팀 로빈슨 분)은 아내...</td>\n",
       "    </tr>\n",
       "    <tr>\n",
       "      <th>2</th>\n",
       "      <td>레옹</td>\n",
       "      <td>한 손엔 우유 2팩이 든 가방, 다른 한 손엔 화분을 들고 뿌리 없이 떠도는 킬러 ...</td>\n",
       "    </tr>\n",
       "    <tr>\n",
       "      <th>3</th>\n",
       "      <td>센과 치히로의 행방불명</td>\n",
       "      <td>금지된 세계의 문이 열렸다! \\r</td>\n",
       "    </tr>\n",
       "    <tr>\n",
       "      <th>4</th>\n",
       "      <td>인생은 아름다워</td>\n",
       "      <td>이탈리아에서 극악한 파시즘이 맹위를 떨치던 1930년대말, 귀도(Guido Oref...</td>\n",
       "    </tr>\n",
       "  </tbody>\n",
       "</table>\n",
       "</div>"
      ],
      "text/plain": [
       "       question                                             answer\n",
       "0       터미네이터 2  미래, 인류와 기계의 전쟁은 계속 되는 가운데 스카이넷은 인류 저항군 사령관 존 코...\n",
       "1        쇼생크 탈출  촉망받는 은행 간부 앤디 듀프레인(Andy Dufresne: 팀 로빈슨 분)은 아내...\n",
       "2            레옹  한 손엔 우유 2팩이 든 가방, 다른 한 손엔 화분을 들고 뿌리 없이 떠도는 킬러 ...\n",
       "3  센과 치히로의 행방불명                                 금지된 세계의 문이 열렸다! \\r\n",
       "4      인생은 아름다워  이탈리아에서 극악한 파시즘이 맹위를 떨치던 1930년대말, 귀도(Guido Oref..."
      ]
     },
     "execution_count": 12,
     "metadata": {},
     "output_type": "execute_result"
    }
   ],
   "source": [
    "df.head()"
   ]
  },
  {
   "cell_type": "code",
   "execution_count": 13,
   "id": "bae7bd45",
   "metadata": {},
   "outputs": [
    {
     "data": {
      "text/html": [
       "<div>\n",
       "<style scoped>\n",
       "    .dataframe tbody tr th:only-of-type {\n",
       "        vertical-align: middle;\n",
       "    }\n",
       "\n",
       "    .dataframe tbody tr th {\n",
       "        vertical-align: top;\n",
       "    }\n",
       "\n",
       "    .dataframe thead th {\n",
       "        text-align: right;\n",
       "    }\n",
       "</style>\n",
       "<table border=\"1\" class=\"dataframe\">\n",
       "  <thead>\n",
       "    <tr style=\"text-align: right;\">\n",
       "      <th></th>\n",
       "      <th>question</th>\n",
       "      <th>answer</th>\n",
       "      <th>embedding</th>\n",
       "    </tr>\n",
       "  </thead>\n",
       "  <tbody>\n",
       "    <tr>\n",
       "      <th>0</th>\n",
       "      <td>터미네이터 2</td>\n",
       "      <td>미래, 인류와 기계의 전쟁은 계속 되는 가운데 스카이넷은 인류 저항군 사령관 존 코...</td>\n",
       "      <td>[0.54955, 0.06932984, 0.24014607, -0.005024005...</td>\n",
       "    </tr>\n",
       "    <tr>\n",
       "      <th>1</th>\n",
       "      <td>쇼생크 탈출</td>\n",
       "      <td>촉망받는 은행 간부 앤디 듀프레인(Andy Dufresne: 팀 로빈슨 분)은 아내...</td>\n",
       "      <td>[-0.61467546, 0.6063601, 1.0031663, 0.10359321...</td>\n",
       "    </tr>\n",
       "    <tr>\n",
       "      <th>2</th>\n",
       "      <td>레옹</td>\n",
       "      <td>한 손엔 우유 2팩이 든 가방, 다른 한 손엔 화분을 들고 뿌리 없이 떠도는 킬러 ...</td>\n",
       "      <td>[0.43051463, -0.088455334, 1.0735716, 0.025758...</td>\n",
       "    </tr>\n",
       "    <tr>\n",
       "      <th>3</th>\n",
       "      <td>센과 치히로의 행방불명</td>\n",
       "      <td>금지된 세계의 문이 열렸다! \\r</td>\n",
       "      <td>[-0.13354228, 0.31095746, 0.5315635, -0.310680...</td>\n",
       "    </tr>\n",
       "    <tr>\n",
       "      <th>4</th>\n",
       "      <td>인생은 아름다워</td>\n",
       "      <td>이탈리아에서 극악한 파시즘이 맹위를 떨치던 1930년대말, 귀도(Guido Oref...</td>\n",
       "      <td>[-0.5607176, -0.3116246, 0.6123159, 0.3853673,...</td>\n",
       "    </tr>\n",
       "  </tbody>\n",
       "</table>\n",
       "</div>"
      ],
      "text/plain": [
       "       question                                             answer   \n",
       "0       터미네이터 2  미래, 인류와 기계의 전쟁은 계속 되는 가운데 스카이넷은 인류 저항군 사령관 존 코...  \\\n",
       "1        쇼생크 탈출  촉망받는 은행 간부 앤디 듀프레인(Andy Dufresne: 팀 로빈슨 분)은 아내...   \n",
       "2            레옹  한 손엔 우유 2팩이 든 가방, 다른 한 손엔 화분을 들고 뿌리 없이 떠도는 킬러 ...   \n",
       "3  센과 치히로의 행방불명                                 금지된 세계의 문이 열렸다! \\r   \n",
       "4      인생은 아름다워  이탈리아에서 극악한 파시즘이 맹위를 떨치던 1930년대말, 귀도(Guido Oref...   \n",
       "\n",
       "                                           embedding  \n",
       "0  [0.54955, 0.06932984, 0.24014607, -0.005024005...  \n",
       "1  [-0.61467546, 0.6063601, 1.0031663, 0.10359321...  \n",
       "2  [0.43051463, -0.088455334, 1.0735716, 0.025758...  \n",
       "3  [-0.13354228, 0.31095746, 0.5315635, -0.310680...  \n",
       "4  [-0.5607176, -0.3116246, 0.6123159, 0.3853673,...  "
      ]
     },
     "execution_count": 13,
     "metadata": {},
     "output_type": "execute_result"
    }
   ],
   "source": [
    "df['embedding'] = pd.Series([[]] * len(df))\n",
    "df['embedding'] = df['question'].map(lambda x: list(model.encode(x)))\n",
    "df.head()"
   ]
  },
  {
   "cell_type": "code",
   "execution_count": 14,
   "id": "63c43623",
   "metadata": {},
   "outputs": [],
   "source": [
    "df.to_json('synopsys_dataset.json')\n",
    "\n",
    "#파싱한 제이슨데이터 내보내기"
   ]
  },
  {
   "cell_type": "code",
   "execution_count": null,
   "id": "a9403972",
   "metadata": {},
   "outputs": [],
   "source": []
  }
 ],
 "metadata": {
  "kernelspec": {
   "display_name": "chatbot",
   "language": "python",
   "name": "chatbot"
  },
  "language_info": {
   "codemirror_mode": {
    "name": "ipython",
    "version": 3
   },
   "file_extension": ".py",
   "mimetype": "text/x-python",
   "name": "python",
   "nbconvert_exporter": "python",
   "pygments_lexer": "ipython3",
   "version": "3.8.16"
  }
 },
 "nbformat": 4,
 "nbformat_minor": 5
}
